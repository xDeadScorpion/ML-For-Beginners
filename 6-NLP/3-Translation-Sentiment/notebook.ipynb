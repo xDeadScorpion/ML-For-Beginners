{
 "cells": [
  {
   "cell_type": "code",
   "execution_count": 1,
   "source": [
    "from textblob import TextBlob"
   ],
   "outputs": [],
   "metadata": {}
  },
  {
   "cell_type": "code",
   "execution_count": 2,
   "source": [
    "with open('../data/PrideAndPrejudice.txt') as f:\n",
    "    book_text = f.read()"
   ],
   "outputs": [],
   "metadata": {}
  },
  {
   "cell_type": "code",
   "execution_count": 7,
   "source": [
    "book = TextBlob(book_text)\n",
    "\n",
    "sentences = book.sentences"
   ],
   "outputs": [],
   "metadata": {}
  },
  {
   "cell_type": "code",
   "execution_count": 10,
   "source": [
    "positive_sentences = []\n",
    "negative_sentences = []\n",
    "\n",
    "for s in sentences:\n",
    "    polarity, subjectivity = s.sentiment\n",
    "    if polarity == 1:\n",
    "        positive_sentences.append(s)\n",
    "    elif polarity == -1:\n",
    "        negative_sentences.append(s)\n",
    "    else:\n",
    "        continue"
   ],
   "outputs": [],
   "metadata": {}
  },
  {
   "cell_type": "code",
   "execution_count": 13,
   "source": [
    "print(f'positve:  {len(positive_sentences)}')\n",
    "print(f'negative: {len(negative_sentences)}')"
   ],
   "outputs": [
    {
     "output_type": "stream",
     "name": "stdout",
     "text": [
      "positve:  33\n",
      "negative: 16\n"
     ]
    }
   ],
   "metadata": {}
  },
  {
   "cell_type": "code",
   "execution_count": 15,
   "source": [
    "for s in positive_sentences:\n",
    "    print(s)"
   ],
   "outputs": [
    {
     "output_type": "stream",
     "name": "stdout",
     "text": [
      "\"What an excellent father you have, girls,\" said she, when the door was\n",
      "shut.\n",
      "He walked here, and he walked there, fancying himself so very\n",
      "great!\n",
      "Elizabeth assured him that she could suit herself perfectly with those\n",
      "in the room.\n",
      "Her performance on the piano-forte is\n",
      "exquisite.\"\n",
      "yes--I understand you perfectly.\"\n",
      "\"I am perfectly convinced by it that Mr. Darcy has no defect.\n",
      "\"It _is_ wonderful,\"--replied Wickham,--\"for almost all his actions may\n",
      "be traced to pride;--and pride has often been his best friend.\n",
      "Family pride, and _filial_ pride, for he is very proud of what\n",
      "his father was, have done this.\n",
      "How wonderfully these sort of things occur!\n",
      "She owed\n",
      "her greatest relief to her friend Miss Lucas, who often joined them, and\n",
      "good-naturedly engaged Mr. Collins's conversation to herself.\n",
      "\"An excellent consolation in its way,\" said Elizabeth, \"but it will not\n",
      "do for _us_.\n",
      "The improvement of\n",
      "spending a night in London was added in time, and the plan became\n",
      "perfect as plan could be.\n",
      "It is the greatest of favours\n",
      "when Miss De Bourgh comes in.\"\n",
      "Anne would have\n",
      "been a delightful performer, had her health allowed her to learn.\"\n",
      "\"Perfectly so--I thank you.\"\n",
      "She is a\n",
      "very great favourite with some ladies of my acquaintance, Mrs. Hurst and\n",
      "Miss Bingley.\n",
      "cried Elizabeth, with the greatest satisfaction.\n",
      "Charlotte is an\n",
      "excellent manager, I dare say.\n",
      "\"His father was an excellent man,\" said Mrs. Gardiner.\n",
      "\"He is the best landlord, and the best master,\" said she, \"that ever\n",
      "lived.\n",
      "\"He is perfectly well behaved, polite, and unassuming,\" said her uncle.\n",
      "On reaching the house, they were shewn through the hall into the saloon,\n",
      "whose northern aspect rendered it delightful for summer.\n",
      "Our distress, my\n",
      "     dear Lizzy, is very great.\n",
      "And tell my dear\n",
      "Lydia, not to give any directions about her clothes, till she has seen\n",
      "me, for she does not know which are the best warehouses.\n",
      "We acted with the best intentions.\"\n",
      "It now occurred to the girls that their mother was in all likelihood\n",
      "perfectly ignorant of what had happened.\n",
      "But, however, he is very welcome to\n",
      "come to Netherfield, if he likes it.\n",
      "Happy shall I be, when his stay at Netherfield is over!\"\n",
      "You will be a very happy woman.\"\n",
      "my dear, dear Jane, I am so\n",
      "happy!\n",
      "If I could but see _you_ as happy!\n",
      "He is perfectly amiable.\n",
      "Your idea of the ponies is delightful.\n"
     ]
    }
   ],
   "metadata": {}
  },
  {
   "cell_type": "code",
   "execution_count": 16,
   "source": [
    "for s in negative_sentences:\n",
    "    print(s)"
   ],
   "outputs": [
    {
     "output_type": "stream",
     "name": "stdout",
     "text": [
      "shocking!\"\n",
      "Every body is disgusted with his pride.\n",
      "\"But what,\" said she, after a pause, \"can have been his motive?--what\n",
      "can have induced him to behave so cruelly?\"\n",
      "His disposition must\n",
      "be dreadful.\"\n",
      "\"You shall hear then--but prepare yourself for something very dreadful.\n",
      "The pause was to Elizabeth's feelings\n",
      "dreadful.\n",
      "\"Wickham so\n",
      "very bad!\n",
      "The separation\n",
      "between her and her family was rather noisy than pathetic.\n",
      "It would be dreadful!\n",
      "It is every way horrible!\"\n",
      "\"Oh, yes!--that, that is the worst of all.\n",
      "\"She is so fond of Mrs. Forster,\" said she, \"it will be quite shocking\n",
      "to send her away!\n",
      "It was all\n",
      "     over before I arrived; so my curiosity was not so dreadfully racked\n",
      "     as _your's_ seems to have been.\n",
      "He called it, therefore, his duty to step\n",
      "     forward, and endeavour to remedy an evil, which had been brought on\n",
      "     by himself.\n",
      "\"Hate you!\n",
      "You were disgusted with the women who were always speaking\n",
      "and looking, and thinking for _your_ approbation alone.\n"
     ]
    }
   ],
   "metadata": {}
  }
 ],
 "metadata": {
  "orig_nbformat": 4,
  "language_info": {
   "name": "python",
   "version": "3.9.6",
   "mimetype": "text/x-python",
   "codemirror_mode": {
    "name": "ipython",
    "version": 3
   },
   "pygments_lexer": "ipython3",
   "nbconvert_exporter": "python",
   "file_extension": ".py"
  },
  "kernelspec": {
   "name": "python3",
   "display_name": "Python 3.9.6 64-bit"
  },
  "interpreter": {
   "hash": "767d51c1340bd893661ea55ea3124f6de3c7a262a8b4abca0554b478b1e2ff90"
  }
 },
 "nbformat": 4,
 "nbformat_minor": 2
}